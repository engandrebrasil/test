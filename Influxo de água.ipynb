{
 "cells": [
  {
   "cell_type": "markdown",
   "metadata": {},
   "source": [
    "Para demonstrar a utilização do python como uma ferramenta de resolução de problemas de engenharia de petróleo, criei este notebook que mostra passo a passo como resolver calcular o influxo acumulado de água em um reservatório de petroleo."
   ]
  },
  {
   "cell_type": "markdown",
   "metadata": {},
   "source": [
    "Utilizei a questão 6.1, pagina: 359, do livro Engenharia de Reservatórios de Petróleo dos autores Adalberto José Rosa, Renato de Souza Carvalho e José Augusto Daniel Xavier"
   ]
  },
  {
   "cell_type": "markdown",
   "metadata": {},
   "source": [
    "# Questão 6.1: O histórico das pressões no contato óleo/água original de um reservatório é apresentado na tabela a seguir:"
   ]
  },
  {
   "cell_type": "markdown",
   "metadata": {},
   "source": [
    "| Tempo (ano) | Pressão (kgf/cm²) |\n",
    "| --- | --- |\n",
    "| 0 | 220 |\n",
    "| 1 | 180 |\n",
    "| 2 | 160 |\n",
    "| 3 | 160 |\n",
    "| 4 | 160 |"
   ]
  },
  {
   "cell_type": "markdown",
   "metadata": {},
   "source": [
    "Outros dados diponíveis são:"
   ]
  },
  {
   "cell_type": "markdown",
   "metadata": {},
   "source": [
    "| Variáveis | Símbolo | Valor |\n",
    "| --- | --- | --- |\n",
    "| Raio do reservatório | *r<sub>o<sub>* | 1200 m |\n",
    "| Espessura da formação | *h* | 10 m |\n",
    "| Porosidade | Φ | 0,15 |\n",
    "| Permeabilidade | *k* | 50 md |\n",
    "| Viscosidade da água | μ | 1,0 cp |\n",
    "| Compressilidade da Formação | *c<sub>f<sub>* | 55x10<sup>-6</sup> |\n",
    "| Compressibilidade da água | *c<sub>w<sub>* | 45x10<sup>-6<sup> |"
   ]
  },
  {
   "cell_type": "markdown",
   "metadata": {},
   "source": [
    "Admitindo que durante os primeiros 4 anos de produção o sitema real possa ser representado por um reservatório associado a um aquífero radial infinito, determe o influxo acumulado de água:"
   ]
  },
  {
   "cell_type": "markdown",
   "metadata": {},
   "source": [
    "## (a) Ao final do 1° ano de produção."
   ]
  },
  {
   "cell_type": "markdown",
   "metadata": {},
   "source": [
    "### 1° Passo: Importe as bibliotecas necessárias para a resolução do problema."
   ]
  },
  {
   "cell_type": "code",
   "execution_count": 134,
   "metadata": {},
   "outputs": [],
   "source": [
    "import pandas as pd #Manipulação de dados\n",
    "import numpy as np #Calculos cientificos\n",
    "import plotly.express as px #Plotar gráficos\n",
    "from sklearn.linear_model import LinearRegression #Regressão linear\n",
    "from sklearn.model_selection import train_test_split #Dividir dados para treinamento e teste"
   ]
  },
  {
   "cell_type": "markdown",
   "metadata": {},
   "source": [
    "### 2° Passo:Transforme os dados da questão em variáveis"
   ]
  },
  {
   "cell_type": "code",
   "execution_count": 249,
   "metadata": {},
   "outputs": [],
   "source": [
    "ro = 1200 #Raio do reservatório\n",
    "h = 10 #Espessura da formação\n",
    "Φ = 0.15 #Porosidade\n",
    "k = 50 #Permeabilidade\n",
    "μ = 1.0 #Viscosidade da água\n",
    "cf = 55*10**(-6) #Compressilidade da Formação\n",
    "cw = 45*10**(-6) #Compressilidade da Formação\n",
    "π = np.pi #pi\n",
    "f = (2*π)/(2*π) #angulo de invasão"
   ]
  },
  {
   "cell_type": "markdown",
   "metadata": {},
   "source": [
    "### 3° Passo: Transforme o histórico de pressão em DataFrame"
   ]
  },
  {
   "cell_type": "code",
   "execution_count": 243,
   "metadata": {},
   "outputs": [
    {
     "data": {
      "text/html": [
       "<div>\n",
       "<style scoped>\n",
       "    .dataframe tbody tr th:only-of-type {\n",
       "        vertical-align: middle;\n",
       "    }\n",
       "\n",
       "    .dataframe tbody tr th {\n",
       "        vertical-align: top;\n",
       "    }\n",
       "\n",
       "    .dataframe thead th {\n",
       "        text-align: right;\n",
       "    }\n",
       "</style>\n",
       "<table border=\"1\" class=\"dataframe\">\n",
       "  <thead>\n",
       "    <tr style=\"text-align: right;\">\n",
       "      <th></th>\n",
       "      <th>Tempo [ano]</th>\n",
       "      <th>Pressão [kgf/cm²]</th>\n",
       "    </tr>\n",
       "  </thead>\n",
       "  <tbody>\n",
       "    <tr>\n",
       "      <th>0</th>\n",
       "      <td>0</td>\n",
       "      <td>220</td>\n",
       "    </tr>\n",
       "    <tr>\n",
       "      <th>1</th>\n",
       "      <td>1</td>\n",
       "      <td>180</td>\n",
       "    </tr>\n",
       "    <tr>\n",
       "      <th>2</th>\n",
       "      <td>2</td>\n",
       "      <td>160</td>\n",
       "    </tr>\n",
       "    <tr>\n",
       "      <th>3</th>\n",
       "      <td>3</td>\n",
       "      <td>160</td>\n",
       "    </tr>\n",
       "    <tr>\n",
       "      <th>4</th>\n",
       "      <td>4</td>\n",
       "      <td>160</td>\n",
       "    </tr>\n",
       "  </tbody>\n",
       "</table>\n",
       "</div>"
      ],
      "text/plain": [
       "   Tempo [ano]  Pressão [kgf/cm²]\n",
       "0            0                220\n",
       "1            1                180\n",
       "2            2                160\n",
       "3            3                160\n",
       "4            4                160"
      ]
     },
     "execution_count": 243,
     "metadata": {},
     "output_type": "execute_result"
    }
   ],
   "source": [
    "hist_pressao_df = pd.DataFrame(data = [[0,220],[1,180],[2,160],[3,160],[4,160]], columns = ['Tempo [ano]', 'Pressão [kgf/cm²]']) #[t=0,P=220],[t=1,P=180],[t=2,P=160],[t=3,P=160],[t=4,P=160]\n",
    "\n",
    "hist_pressao_df #apresenta o DataFrame para checagem"
   ]
  },
  {
   "cell_type": "markdown",
   "metadata": {},
   "source": [
    "Você utilizará este DataFrame até o fim do processo"
   ]
  },
  {
   "cell_type": "markdown",
   "metadata": {},
   "source": [
    "### 4° Passo: Calcule a compressibilidade total (ct) e a constante de influxo de água do aquífero (U)"
   ]
  },
  {
   "cell_type": "code",
   "execution_count": 251,
   "metadata": {},
   "outputs": [],
   "source": [
    "ct = cw + cf # Calcula a compressibilidade total\n",
    "U = 2*π*f*Φ*ct*h*ro**2 #Calcula a constante de influxo do aquífero"
   ]
  },
  {
   "cell_type": "markdown",
   "metadata": {},
   "source": [
    "### 5° Passo: Crie uma função para o calculo do tempo admensional"
   ]
  },
  {
   "cell_type": "code",
   "execution_count": 252,
   "metadata": {},
   "outputs": [],
   "source": [
    "def tempo_adimensional(t): #Cria a função para o calculo do tempo admensional\n",
    "    tempo_admensional = (0.0003484*24*365*k)*t/(Φ*μ*ct*ro**2)\n",
    "    return tempo_admensional"
   ]
  },
  {
   "cell_type": "markdown",
   "metadata": {},
   "source": [
    "### 6° Passo: Importe os dados de Influxo admensional vs tempo admensional, plote os dados com um gráfico de dispersão"
   ]
  },
  {
   "cell_type": "code",
   "execution_count": 253,
   "metadata": {},
   "outputs": [],
   "source": [
    "tabela_aquifero_infinito = pd.read_csv(\"infinity aquifer.csv\", sep = \";\") #importa dos dados de td vs wd"
   ]
  },
  {
   "cell_type": "code",
   "execution_count": 276,
   "metadata": {},
   "outputs": [
    {
     "data": {
      "application/vnd.plotly.v1+json": {
       "config": {
        "plotlyServerURL": "https://plot.ly"
       },
       "data": [
        {
         "hovertemplate": "td=%{x}<br>wd=%{y}<extra></extra>",
         "legendgroup": "",
         "marker": {
          "color": "#636efa",
          "symbol": "circle"
         },
         "mode": "markers",
         "name": "",
         "orientation": "v",
         "showlegend": false,
         "type": "scatter",
         "x": [
          0,
          0.01,
          0.05,
          0.1,
          0.15,
          0.2,
          0.25,
          0.3,
          0.4,
          0.5,
          0.6,
          0.7,
          0.8,
          0.9,
          1,
          2,
          3,
          4,
          5,
          6,
          7,
          8,
          9,
          10,
          11,
          12,
          13,
          14,
          15,
          16,
          17,
          18,
          19,
          20,
          21,
          22,
          23,
          24,
          25,
          26,
          27,
          28,
          29,
          30,
          31,
          32,
          33,
          34,
          35,
          36,
          37,
          38,
          39,
          40,
          41,
          42,
          43,
          44,
          45,
          46,
          47,
          48,
          49,
          50,
          51,
          52,
          53,
          54,
          55,
          56,
          57,
          58,
          59,
          60,
          61,
          62,
          63,
          64,
          65,
          66,
          67,
          68,
          69,
          70,
          71,
          72,
          73,
          74,
          75,
          76,
          77,
          78,
          79,
          80,
          81,
          82,
          83,
          84,
          85,
          86,
          87,
          88,
          89,
          90,
          91,
          92,
          93,
          94,
          95,
          96,
          97,
          98,
          99,
          100,
          105,
          110,
          115,
          120,
          125,
          130,
          135,
          140,
          145,
          150,
          155,
          160,
          165,
          170,
          175,
          180,
          185,
          190,
          195,
          200,
          205,
          210,
          215,
          220,
          225,
          230,
          235,
          240,
          245,
          250,
          255,
          260,
          265,
          270,
          275,
          280,
          285,
          290,
          295,
          300,
          305,
          310,
          315,
          320,
          325,
          330,
          335,
          340,
          345,
          350,
          355,
          360,
          365,
          370,
          375,
          380,
          385,
          390,
          395,
          400,
          405,
          410,
          415,
          420,
          425,
          430,
          435,
          440,
          445,
          450,
          455,
          460,
          465,
          470,
          475,
          480,
          485,
          490,
          495,
          500,
          510,
          520,
          525,
          530,
          540,
          550,
          560,
          570,
          575,
          580,
          590,
          600,
          610,
          620,
          625,
          630,
          640,
          650,
          660,
          670,
          675,
          680,
          690,
          700,
          710,
          720,
          725,
          730,
          740,
          750,
          760,
          770,
          775,
          780,
          790,
          800,
          810,
          820,
          825,
          830,
          840,
          850,
          860,
          870,
          875,
          880,
          890,
          900,
          910,
          920,
          925,
          930,
          940,
          950,
          960,
          970,
          975,
          980,
          990,
          1000,
          1010,
          1020,
          1030,
          1030,
          1040,
          1050,
          1060,
          1070,
          1080,
          1080,
          1090,
          1100,
          1110,
          1120,
          1130,
          1130,
          1140,
          1150,
          1160,
          1170,
          1180,
          1180,
          1190,
          1200,
          1210,
          1220,
          1230,
          1230,
          1240,
          1250,
          1260,
          1270,
          1280,
          1280,
          1290,
          1300,
          1310,
          1320,
          1330,
          1330,
          1340,
          1350,
          1360,
          1370,
          1380,
          1380,
          1390,
          1400,
          1410,
          1420,
          1430,
          1430,
          1440,
          1450,
          1460,
          1470,
          1480,
          1480,
          1490,
          1500,
          1530,
          1550,
          1580,
          1600,
          1630,
          1650,
          1680,
          1700,
          1730,
          1750,
          1780,
          1800,
          1830,
          1850,
          1880,
          1900,
          1930,
          1950,
          1980,
          2000,
          2030,
          2050,
          2080,
          2100,
          2130,
          2150,
          2180,
          2200,
          2230,
          2250,
          2280,
          2300,
          2330,
          2350,
          2380,
          2400,
          2430,
          2450,
          2480,
          2500,
          2550,
          2600,
          2650,
          2700,
          2750,
          2800,
          2850,
          2900,
          2950,
          3000,
          3050,
          3100,
          3150,
          3200,
          3250,
          3300,
          3350,
          3400,
          3450,
          3500,
          3550,
          3600,
          3650,
          3700,
          3750,
          3800,
          3850,
          3900,
          3950,
          4000,
          4050,
          4100,
          4150,
          4200,
          4250,
          4300,
          4350,
          4400,
          4450,
          4500,
          4550,
          4600,
          4650,
          4700,
          4750,
          4800,
          4850,
          4900,
          4950,
          5000,
          5100,
          5200,
          5300,
          5400,
          5500,
          5600,
          5700,
          5800,
          5900,
          6000,
          6100,
          6200,
          6300,
          6400,
          6500,
          6600,
          6700,
          6800,
          6900,
          7000,
          7100,
          7200,
          7300,
          7400,
          7500,
          7600,
          7700,
          7800,
          7900,
          8000,
          8100,
          8200,
          8300,
          8400,
          8500,
          8600,
          8700,
          8800,
          8900,
          9000,
          9100,
          9200,
          9300,
          9400,
          9500,
          9600,
          9700,
          9800,
          9900,
          10000,
          12500,
          15000,
          17500,
          20000,
          25000,
          30000,
          35000,
          40000,
          50000,
          60000,
          70000,
          75000,
          80000,
          90000,
          100000,
          125000,
          150000,
          200000,
          250000,
          300000,
          400000,
          500000,
          600000,
          700000,
          800000,
          900000,
          1000000,
          1500000,
          2000000,
          2500000,
          3000000,
          4000000,
          5000000,
          6000000,
          7000000,
          8000000,
          9000000,
          10000000,
          15000000,
          20000000,
          25000000,
          30000000,
          40000000,
          50000000,
          60000000,
          70000000,
          80000000,
          90000000,
          100000000,
          150000000,
          200000000,
          250000000,
          300000000,
          400000000,
          500000000,
          600000000,
          700000000,
          800000000,
          900000000,
          1000000000,
          1500000000,
          2000000000,
          2500000000,
          3000000000,
          4000000000,
          5000000000,
          6000000000,
          7000000000,
          8000000000,
          9000000000,
          10000000000,
          15000000000,
          20000000000,
          25000000000,
          30000000000,
          40000000000,
          50000000000,
          60000000000,
          70000000000,
          80000000000,
          90000000000,
          100000000000,
          150000000000,
          200000000000,
          250000000000,
          300000000000,
          400000000000,
          500000000000,
          600000000000,
          700000000000,
          800000000000,
          900000000000,
          1000000000000,
          1500000000000,
          2000000000000
         ],
         "xaxis": "x",
         "y": [
          0,
          0.11199999999999999,
          0.278,
          0.40399999999999997,
          0.52,
          0.606,
          0.6890000000000001,
          0.758,
          0.898,
          1.02,
          1.14,
          1.251,
          1.359,
          1.469,
          1.569,
          2.447,
          3.202,
          3.8930000000000002,
          4.539,
          5.153,
          5.742999999999999,
          6.314,
          6.869,
          7.4110000000000005,
          7.94,
          8.457,
          8.964,
          9.461,
          9.949,
          10.434000000000001,
          10.913,
          11.386,
          11.855,
          12.319,
          12.777999999999999,
          13.232999999999999,
          13.684000000000001,
          14.130999999999998,
          14.573,
          15.013,
          15.45,
          15.883,
          16.313,
          16.742,
          17.167,
          17.59,
          18.011,
          18.429000000000002,
          18.845,
          19.259,
          19.671,
          20.08,
          20.488000000000003,
          20.894000000000002,
          21.298000000000002,
          21.701,
          22.101,
          22.5,
          22.897,
          23.291,
          23.684,
          24.076,
          24.465999999999998,
          24.855,
          25.244,
          25.633000000000003,
          26.02,
          26.406,
          26.791,
          27.174,
          27.555,
          27.935,
          28.314,
          28.691,
          29.068,
          29.443,
          29.818,
          30.191999999999997,
          30.565,
          30.936999999999998,
          31.308000000000003,
          31.679000000000002,
          32.048,
          32.417,
          32.785,
          33.150999999999996,
          33.516999999999996,
          33.883,
          34.247,
          34.611,
          34.974000000000004,
          35.336,
          35.696999999999996,
          36.058,
          36.418,
          36.777,
          37.135999999999996,
          37.494,
          37.851,
          38.2,
          38.6,
          38.9,
          39.3,
          39.6,
          40,
          40.3,
          40.7,
          41,
          41.4,
          41.7,
          42.1,
          42.4,
          42.8,
          43.1,
          44.9,
          46.6,
          48.3,
          50,
          51.6,
          53.3,
          55,
          56.6,
          58.3,
          59.9,
          61.5,
          63.1,
          64.7,
          66.3,
          67.9,
          69.5,
          71.1,
          72.7,
          74.2,
          75.8,
          77.3,
          78.9,
          80.4,
          82,
          83.5,
          85,
          86.5,
          88.1,
          89.6,
          91.1,
          92.6,
          94.1,
          95.6,
          97.1,
          98.6,
          100,
          102,
          103,
          104,
          106,
          107,
          109,
          110,
          112,
          113,
          115,
          116,
          118,
          119,
          121,
          122,
          123,
          125,
          127,
          128,
          129,
          131,
          132,
          133,
          135,
          136,
          138,
          139,
          140,
          142,
          143,
          145,
          146,
          147,
          149,
          150,
          152,
          153,
          154,
          156,
          157,
          159,
          160,
          161,
          163,
          165,
          168,
          170,
          171,
          174,
          176,
          179,
          182,
          183,
          184,
          187,
          190,
          193,
          195,
          197,
          198,
          201,
          203,
          206,
          209,
          210,
          211,
          214,
          216,
          219,
          222,
          223,
          224,
          227,
          230,
          232,
          235,
          236,
          237,
          240,
          243,
          245,
          248,
          249,
          250,
          253,
          255,
          258,
          261,
          262,
          263,
          266,
          268,
          271,
          273,
          275,
          276,
          278,
          281,
          283,
          286,
          287,
          288,
          291,
          294,
          296,
          299,
          300,
          301,
          304,
          306,
          309,
          311,
          312,
          314,
          316,
          319,
          321,
          324,
          325,
          326,
          328,
          331,
          333,
          336,
          337,
          338,
          341,
          343,
          346,
          348,
          349,
          351,
          353,
          356,
          358,
          360,
          362,
          363,
          365,
          368,
          370,
          373,
          374,
          375,
          378,
          380,
          382,
          385,
          386,
          387,
          390,
          392,
          395,
          397,
          398,
          399,
          402,
          404,
          407,
          409,
          410,
          411,
          414,
          416,
          422,
          428,
          434,
          440,
          446,
          452,
          458,
          464,
          470,
          476,
          482,
          487,
          493,
          499,
          505,
          511,
          517,
          523,
          528,
          534,
          540,
          546,
          552,
          557,
          563,
          569,
          575,
          580,
          586,
          592,
          598,
          603,
          609,
          615,
          620,
          626,
          632,
          637,
          643,
          649,
          660,
          671,
          683,
          694,
          705,
          716,
          727,
          739,
          750,
          761,
          772,
          783,
          794,
          805,
          816,
          827,
          838,
          849,
          860,
          871,
          882,
          893,
          904,
          914,
          925,
          936,
          947,
          958,
          969,
          979,
          990,
          1000,
          1010,
          1020,
          1030,
          1040,
          1050,
          1070,
          1080,
          1090,
          1100,
          1110,
          1120,
          1130,
          1140,
          1150,
          1160,
          1170,
          1180,
          1190,
          1210,
          1230,
          1260,
          1280,
          1300,
          1320,
          1340,
          1360,
          1380,
          1400,
          1420,
          1440,
          1460,
          1480,
          1500,
          1520,
          1540,
          1560,
          1590,
          1610,
          1630,
          1650,
          1670,
          1690,
          1710,
          1730,
          1750,
          1770,
          1790,
          1810,
          1830,
          1850,
          1870,
          1890,
          1910,
          1930,
          1950,
          1970,
          1990,
          2010,
          2030,
          2050,
          2070,
          2090,
          2110,
          2130,
          2140,
          2160,
          2180,
          2200,
          2690,
          3160,
          3630,
          4100,
          5010,
          5900,
          6780,
          7650,
          9360,
          11000,
          12700,
          13500,
          14400,
          16000,
          17600,
          21600,
          25400,
          33100,
          40700,
          48200,
          62700,
          77000,
          91100,
          105000,
          119000,
          133000,
          146000,
          213000,
          278000,
          343000,
          406000,
          531000,
          654000,
          776000,
          897000,
          1020000,
          1130000,
          1250000,
          1830000,
          2400000,
          2960000,
          3520000,
          4610000,
          5690000,
          6760000,
          7820000,
          8870000,
          9910000,
          11000000,
          16000000,
          21100000,
          26100000,
          31000000,
          40700000,
          50300000,
          59800000,
          69300000,
          78700000,
          88000000,
          97300000,
          143000000,
          188000000,
          233000000,
          277000000,
          365000000,
          451000000,
          537000000,
          622000000,
          707000000,
          791000000,
          875000000,
          1290000000,
          1700000000,
          2100000000,
          2510000000,
          3300000000,
          4090000000,
          4870000000,
          5640000000,
          6410000000,
          7180000000,
          7950000000,
          11700000000,
          15500000000,
          19200000000,
          22900000000,
          30200000000,
          37500000000,
          44700000000,
          51900000000,
          58900000000,
          65800000000,
          72800000000,
          108000000000,
          142000000000
         ],
         "yaxis": "y"
        }
       ],
       "layout": {
        "legend": {
         "tracegroupgap": 0
        },
        "margin": {
         "t": 60
        },
        "template": {
         "data": {
          "bar": [
           {
            "error_x": {
             "color": "#2a3f5f"
            },
            "error_y": {
             "color": "#2a3f5f"
            },
            "marker": {
             "line": {
              "color": "#E5ECF6",
              "width": 0.5
             }
            },
            "type": "bar"
           }
          ],
          "barpolar": [
           {
            "marker": {
             "line": {
              "color": "#E5ECF6",
              "width": 0.5
             }
            },
            "type": "barpolar"
           }
          ],
          "carpet": [
           {
            "aaxis": {
             "endlinecolor": "#2a3f5f",
             "gridcolor": "white",
             "linecolor": "white",
             "minorgridcolor": "white",
             "startlinecolor": "#2a3f5f"
            },
            "baxis": {
             "endlinecolor": "#2a3f5f",
             "gridcolor": "white",
             "linecolor": "white",
             "minorgridcolor": "white",
             "startlinecolor": "#2a3f5f"
            },
            "type": "carpet"
           }
          ],
          "choropleth": [
           {
            "colorbar": {
             "outlinewidth": 0,
             "ticks": ""
            },
            "type": "choropleth"
           }
          ],
          "contour": [
           {
            "colorbar": {
             "outlinewidth": 0,
             "ticks": ""
            },
            "colorscale": [
             [
              0,
              "#0d0887"
             ],
             [
              0.1111111111111111,
              "#46039f"
             ],
             [
              0.2222222222222222,
              "#7201a8"
             ],
             [
              0.3333333333333333,
              "#9c179e"
             ],
             [
              0.4444444444444444,
              "#bd3786"
             ],
             [
              0.5555555555555556,
              "#d8576b"
             ],
             [
              0.6666666666666666,
              "#ed7953"
             ],
             [
              0.7777777777777778,
              "#fb9f3a"
             ],
             [
              0.8888888888888888,
              "#fdca26"
             ],
             [
              1,
              "#f0f921"
             ]
            ],
            "type": "contour"
           }
          ],
          "contourcarpet": [
           {
            "colorbar": {
             "outlinewidth": 0,
             "ticks": ""
            },
            "type": "contourcarpet"
           }
          ],
          "heatmap": [
           {
            "colorbar": {
             "outlinewidth": 0,
             "ticks": ""
            },
            "colorscale": [
             [
              0,
              "#0d0887"
             ],
             [
              0.1111111111111111,
              "#46039f"
             ],
             [
              0.2222222222222222,
              "#7201a8"
             ],
             [
              0.3333333333333333,
              "#9c179e"
             ],
             [
              0.4444444444444444,
              "#bd3786"
             ],
             [
              0.5555555555555556,
              "#d8576b"
             ],
             [
              0.6666666666666666,
              "#ed7953"
             ],
             [
              0.7777777777777778,
              "#fb9f3a"
             ],
             [
              0.8888888888888888,
              "#fdca26"
             ],
             [
              1,
              "#f0f921"
             ]
            ],
            "type": "heatmap"
           }
          ],
          "heatmapgl": [
           {
            "colorbar": {
             "outlinewidth": 0,
             "ticks": ""
            },
            "colorscale": [
             [
              0,
              "#0d0887"
             ],
             [
              0.1111111111111111,
              "#46039f"
             ],
             [
              0.2222222222222222,
              "#7201a8"
             ],
             [
              0.3333333333333333,
              "#9c179e"
             ],
             [
              0.4444444444444444,
              "#bd3786"
             ],
             [
              0.5555555555555556,
              "#d8576b"
             ],
             [
              0.6666666666666666,
              "#ed7953"
             ],
             [
              0.7777777777777778,
              "#fb9f3a"
             ],
             [
              0.8888888888888888,
              "#fdca26"
             ],
             [
              1,
              "#f0f921"
             ]
            ],
            "type": "heatmapgl"
           }
          ],
          "histogram": [
           {
            "marker": {
             "colorbar": {
              "outlinewidth": 0,
              "ticks": ""
             }
            },
            "type": "histogram"
           }
          ],
          "histogram2d": [
           {
            "colorbar": {
             "outlinewidth": 0,
             "ticks": ""
            },
            "colorscale": [
             [
              0,
              "#0d0887"
             ],
             [
              0.1111111111111111,
              "#46039f"
             ],
             [
              0.2222222222222222,
              "#7201a8"
             ],
             [
              0.3333333333333333,
              "#9c179e"
             ],
             [
              0.4444444444444444,
              "#bd3786"
             ],
             [
              0.5555555555555556,
              "#d8576b"
             ],
             [
              0.6666666666666666,
              "#ed7953"
             ],
             [
              0.7777777777777778,
              "#fb9f3a"
             ],
             [
              0.8888888888888888,
              "#fdca26"
             ],
             [
              1,
              "#f0f921"
             ]
            ],
            "type": "histogram2d"
           }
          ],
          "histogram2dcontour": [
           {
            "colorbar": {
             "outlinewidth": 0,
             "ticks": ""
            },
            "colorscale": [
             [
              0,
              "#0d0887"
             ],
             [
              0.1111111111111111,
              "#46039f"
             ],
             [
              0.2222222222222222,
              "#7201a8"
             ],
             [
              0.3333333333333333,
              "#9c179e"
             ],
             [
              0.4444444444444444,
              "#bd3786"
             ],
             [
              0.5555555555555556,
              "#d8576b"
             ],
             [
              0.6666666666666666,
              "#ed7953"
             ],
             [
              0.7777777777777778,
              "#fb9f3a"
             ],
             [
              0.8888888888888888,
              "#fdca26"
             ],
             [
              1,
              "#f0f921"
             ]
            ],
            "type": "histogram2dcontour"
           }
          ],
          "mesh3d": [
           {
            "colorbar": {
             "outlinewidth": 0,
             "ticks": ""
            },
            "type": "mesh3d"
           }
          ],
          "parcoords": [
           {
            "line": {
             "colorbar": {
              "outlinewidth": 0,
              "ticks": ""
             }
            },
            "type": "parcoords"
           }
          ],
          "pie": [
           {
            "automargin": true,
            "type": "pie"
           }
          ],
          "scatter": [
           {
            "marker": {
             "colorbar": {
              "outlinewidth": 0,
              "ticks": ""
             }
            },
            "type": "scatter"
           }
          ],
          "scatter3d": [
           {
            "line": {
             "colorbar": {
              "outlinewidth": 0,
              "ticks": ""
             }
            },
            "marker": {
             "colorbar": {
              "outlinewidth": 0,
              "ticks": ""
             }
            },
            "type": "scatter3d"
           }
          ],
          "scattercarpet": [
           {
            "marker": {
             "colorbar": {
              "outlinewidth": 0,
              "ticks": ""
             }
            },
            "type": "scattercarpet"
           }
          ],
          "scattergeo": [
           {
            "marker": {
             "colorbar": {
              "outlinewidth": 0,
              "ticks": ""
             }
            },
            "type": "scattergeo"
           }
          ],
          "scattergl": [
           {
            "marker": {
             "colorbar": {
              "outlinewidth": 0,
              "ticks": ""
             }
            },
            "type": "scattergl"
           }
          ],
          "scattermapbox": [
           {
            "marker": {
             "colorbar": {
              "outlinewidth": 0,
              "ticks": ""
             }
            },
            "type": "scattermapbox"
           }
          ],
          "scatterpolar": [
           {
            "marker": {
             "colorbar": {
              "outlinewidth": 0,
              "ticks": ""
             }
            },
            "type": "scatterpolar"
           }
          ],
          "scatterpolargl": [
           {
            "marker": {
             "colorbar": {
              "outlinewidth": 0,
              "ticks": ""
             }
            },
            "type": "scatterpolargl"
           }
          ],
          "scatterternary": [
           {
            "marker": {
             "colorbar": {
              "outlinewidth": 0,
              "ticks": ""
             }
            },
            "type": "scatterternary"
           }
          ],
          "surface": [
           {
            "colorbar": {
             "outlinewidth": 0,
             "ticks": ""
            },
            "colorscale": [
             [
              0,
              "#0d0887"
             ],
             [
              0.1111111111111111,
              "#46039f"
             ],
             [
              0.2222222222222222,
              "#7201a8"
             ],
             [
              0.3333333333333333,
              "#9c179e"
             ],
             [
              0.4444444444444444,
              "#bd3786"
             ],
             [
              0.5555555555555556,
              "#d8576b"
             ],
             [
              0.6666666666666666,
              "#ed7953"
             ],
             [
              0.7777777777777778,
              "#fb9f3a"
             ],
             [
              0.8888888888888888,
              "#fdca26"
             ],
             [
              1,
              "#f0f921"
             ]
            ],
            "type": "surface"
           }
          ],
          "table": [
           {
            "cells": {
             "fill": {
              "color": "#EBF0F8"
             },
             "line": {
              "color": "white"
             }
            },
            "header": {
             "fill": {
              "color": "#C8D4E3"
             },
             "line": {
              "color": "white"
             }
            },
            "type": "table"
           }
          ]
         },
         "layout": {
          "annotationdefaults": {
           "arrowcolor": "#2a3f5f",
           "arrowhead": 0,
           "arrowwidth": 1
          },
          "coloraxis": {
           "colorbar": {
            "outlinewidth": 0,
            "ticks": ""
           }
          },
          "colorscale": {
           "diverging": [
            [
             0,
             "#8e0152"
            ],
            [
             0.1,
             "#c51b7d"
            ],
            [
             0.2,
             "#de77ae"
            ],
            [
             0.3,
             "#f1b6da"
            ],
            [
             0.4,
             "#fde0ef"
            ],
            [
             0.5,
             "#f7f7f7"
            ],
            [
             0.6,
             "#e6f5d0"
            ],
            [
             0.7,
             "#b8e186"
            ],
            [
             0.8,
             "#7fbc41"
            ],
            [
             0.9,
             "#4d9221"
            ],
            [
             1,
             "#276419"
            ]
           ],
           "sequential": [
            [
             0,
             "#0d0887"
            ],
            [
             0.1111111111111111,
             "#46039f"
            ],
            [
             0.2222222222222222,
             "#7201a8"
            ],
            [
             0.3333333333333333,
             "#9c179e"
            ],
            [
             0.4444444444444444,
             "#bd3786"
            ],
            [
             0.5555555555555556,
             "#d8576b"
            ],
            [
             0.6666666666666666,
             "#ed7953"
            ],
            [
             0.7777777777777778,
             "#fb9f3a"
            ],
            [
             0.8888888888888888,
             "#fdca26"
            ],
            [
             1,
             "#f0f921"
            ]
           ],
           "sequentialminus": [
            [
             0,
             "#0d0887"
            ],
            [
             0.1111111111111111,
             "#46039f"
            ],
            [
             0.2222222222222222,
             "#7201a8"
            ],
            [
             0.3333333333333333,
             "#9c179e"
            ],
            [
             0.4444444444444444,
             "#bd3786"
            ],
            [
             0.5555555555555556,
             "#d8576b"
            ],
            [
             0.6666666666666666,
             "#ed7953"
            ],
            [
             0.7777777777777778,
             "#fb9f3a"
            ],
            [
             0.8888888888888888,
             "#fdca26"
            ],
            [
             1,
             "#f0f921"
            ]
           ]
          },
          "colorway": [
           "#636efa",
           "#EF553B",
           "#00cc96",
           "#ab63fa",
           "#FFA15A",
           "#19d3f3",
           "#FF6692",
           "#B6E880",
           "#FF97FF",
           "#FECB52"
          ],
          "font": {
           "color": "#2a3f5f"
          },
          "geo": {
           "bgcolor": "white",
           "lakecolor": "white",
           "landcolor": "#E5ECF6",
           "showlakes": true,
           "showland": true,
           "subunitcolor": "white"
          },
          "hoverlabel": {
           "align": "left"
          },
          "hovermode": "closest",
          "mapbox": {
           "style": "light"
          },
          "paper_bgcolor": "white",
          "plot_bgcolor": "#E5ECF6",
          "polar": {
           "angularaxis": {
            "gridcolor": "white",
            "linecolor": "white",
            "ticks": ""
           },
           "bgcolor": "#E5ECF6",
           "radialaxis": {
            "gridcolor": "white",
            "linecolor": "white",
            "ticks": ""
           }
          },
          "scene": {
           "xaxis": {
            "backgroundcolor": "#E5ECF6",
            "gridcolor": "white",
            "gridwidth": 2,
            "linecolor": "white",
            "showbackground": true,
            "ticks": "",
            "zerolinecolor": "white"
           },
           "yaxis": {
            "backgroundcolor": "#E5ECF6",
            "gridcolor": "white",
            "gridwidth": 2,
            "linecolor": "white",
            "showbackground": true,
            "ticks": "",
            "zerolinecolor": "white"
           },
           "zaxis": {
            "backgroundcolor": "#E5ECF6",
            "gridcolor": "white",
            "gridwidth": 2,
            "linecolor": "white",
            "showbackground": true,
            "ticks": "",
            "zerolinecolor": "white"
           }
          },
          "shapedefaults": {
           "line": {
            "color": "#2a3f5f"
           }
          },
          "ternary": {
           "aaxis": {
            "gridcolor": "white",
            "linecolor": "white",
            "ticks": ""
           },
           "baxis": {
            "gridcolor": "white",
            "linecolor": "white",
            "ticks": ""
           },
           "bgcolor": "#E5ECF6",
           "caxis": {
            "gridcolor": "white",
            "linecolor": "white",
            "ticks": ""
           }
          },
          "title": {
           "x": 0.05
          },
          "xaxis": {
           "automargin": true,
           "gridcolor": "white",
           "linecolor": "white",
           "ticks": "",
           "title": {
            "standoff": 15
           },
           "zerolinecolor": "white",
           "zerolinewidth": 2
          },
          "yaxis": {
           "automargin": true,
           "gridcolor": "white",
           "linecolor": "white",
           "ticks": "",
           "title": {
            "standoff": 15
           },
           "zerolinecolor": "white",
           "zerolinewidth": 2
          }
         }
        },
        "xaxis": {
         "anchor": "y",
         "domain": [
          0,
          1
         ],
         "title": {
          "text": "td"
         }
        },
        "yaxis": {
         "anchor": "x",
         "domain": [
          0,
          1
         ],
         "title": {
          "text": "wd"
         }
        }
       }
      },
      "text/html": [
       "<div>\n",
       "        \n",
       "        \n",
       "            <div id=\"7406fbf2-d653-4588-8964-14fec00fdd3d\" class=\"plotly-graph-div\" style=\"height:525px; width:100%;\"></div>\n",
       "            <script type=\"text/javascript\">\n",
       "                require([\"plotly\"], function(Plotly) {\n",
       "                    window.PLOTLYENV=window.PLOTLYENV || {};\n",
       "                    \n",
       "                if (document.getElementById(\"7406fbf2-d653-4588-8964-14fec00fdd3d\")) {\n",
       "                    Plotly.newPlot(\n",
       "                        '7406fbf2-d653-4588-8964-14fec00fdd3d',\n",
       "                        [{\"hovertemplate\": \"td=%{x}<br>wd=%{y}<extra></extra>\", \"legendgroup\": \"\", \"marker\": {\"color\": \"#636efa\", \"symbol\": \"circle\"}, \"mode\": \"markers\", \"name\": \"\", \"orientation\": \"v\", \"showlegend\": false, \"type\": \"scatter\", \"x\": [0.0, 0.01, 0.05, 0.1, 0.15, 0.2, 0.25, 0.3, 0.4, 0.5, 0.6, 0.7, 0.8, 0.9, 1.0, 2.0, 3.0, 4.0, 5.0, 6.0, 7.0, 8.0, 9.0, 10.0, 11.0, 12.0, 13.0, 14.0, 15.0, 16.0, 17.0, 18.0, 19.0, 20.0, 21.0, 22.0, 23.0, 24.0, 25.0, 26.0, 27.0, 28.0, 29.0, 30.0, 31.0, 32.0, 33.0, 34.0, 35.0, 36.0, 37.0, 38.0, 39.0, 40.0, 41.0, 42.0, 43.0, 44.0, 45.0, 46.0, 47.0, 48.0, 49.0, 50.0, 51.0, 52.0, 53.0, 54.0, 55.0, 56.0, 57.0, 58.0, 59.0, 60.0, 61.0, 62.0, 63.0, 64.0, 65.0, 66.0, 67.0, 68.0, 69.0, 70.0, 71.0, 72.0, 73.0, 74.0, 75.0, 76.0, 77.0, 78.0, 79.0, 80.0, 81.0, 82.0, 83.0, 84.0, 85.0, 86.0, 87.0, 88.0, 89.0, 90.0, 91.0, 92.0, 93.0, 94.0, 95.0, 96.0, 97.0, 98.0, 99.0, 100.0, 105.0, 110.0, 115.0, 120.0, 125.0, 130.0, 135.0, 140.0, 145.0, 150.0, 155.0, 160.0, 165.0, 170.0, 175.0, 180.0, 185.0, 190.0, 195.0, 200.0, 205.0, 210.0, 215.0, 220.0, 225.0, 230.0, 235.0, 240.0, 245.0, 250.0, 255.0, 260.0, 265.0, 270.0, 275.0, 280.0, 285.0, 290.0, 295.0, 300.0, 305.0, 310.0, 315.0, 320.0, 325.0, 330.0, 335.0, 340.0, 345.0, 350.0, 355.0, 360.0, 365.0, 370.0, 375.0, 380.0, 385.0, 390.0, 395.0, 400.0, 405.0, 410.0, 415.0, 420.0, 425.0, 430.0, 435.0, 440.0, 445.0, 450.0, 455.0, 460.0, 465.0, 470.0, 475.0, 480.0, 485.0, 490.0, 495.0, 500.0, 510.0, 520.0, 525.0, 530.0, 540.0, 550.0, 560.0, 570.0, 575.0, 580.0, 590.0, 600.0, 610.0, 620.0, 625.0, 630.0, 640.0, 650.0, 660.0, 670.0, 675.0, 680.0, 690.0, 700.0, 710.0, 720.0, 725.0, 730.0, 740.0, 750.0, 760.0, 770.0, 775.0, 780.0, 790.0, 800.0, 810.0, 820.0, 825.0, 830.0, 840.0, 850.0, 860.0, 870.0, 875.0, 880.0, 890.0, 900.0, 910.0, 920.0, 925.0, 930.0, 940.0, 950.0, 960.0, 970.0, 975.0, 980.0, 990.0, 1000.0, 1010.0, 1020.0, 1030.0, 1030.0, 1040.0, 1050.0, 1060.0, 1070.0, 1080.0, 1080.0, 1090.0, 1100.0, 1110.0, 1120.0, 1130.0, 1130.0, 1140.0, 1150.0, 1160.0, 1170.0, 1180.0, 1180.0, 1190.0, 1200.0, 1210.0, 1220.0, 1230.0, 1230.0, 1240.0, 1250.0, 1260.0, 1270.0, 1280.0, 1280.0, 1290.0, 1300.0, 1310.0, 1320.0, 1330.0, 1330.0, 1340.0, 1350.0, 1360.0, 1370.0, 1380.0, 1380.0, 1390.0, 1400.0, 1410.0, 1420.0, 1430.0, 1430.0, 1440.0, 1450.0, 1460.0, 1470.0, 1480.0, 1480.0, 1490.0, 1500.0, 1530.0, 1550.0, 1580.0, 1600.0, 1630.0, 1650.0, 1680.0, 1700.0, 1730.0, 1750.0, 1780.0, 1800.0, 1830.0, 1850.0, 1880.0, 1900.0, 1930.0, 1950.0, 1980.0, 2000.0, 2030.0, 2050.0, 2080.0, 2100.0, 2130.0, 2150.0, 2180.0, 2200.0, 2230.0, 2250.0, 2280.0, 2300.0, 2330.0, 2350.0, 2380.0, 2400.0, 2430.0, 2450.0, 2480.0, 2500.0, 2550.0, 2600.0, 2650.0, 2700.0, 2750.0, 2800.0, 2850.0, 2900.0, 2950.0, 3000.0, 3050.0, 3100.0, 3150.0, 3200.0, 3250.0, 3300.0, 3350.0, 3400.0, 3450.0, 3500.0, 3550.0, 3600.0, 3650.0, 3700.0, 3750.0, 3800.0, 3850.0, 3900.0, 3950.0, 4000.0, 4050.0, 4100.0, 4150.0, 4200.0, 4250.0, 4300.0, 4350.0, 4400.0, 4450.0, 4500.0, 4550.0, 4600.0, 4650.0, 4700.0, 4750.0, 4800.0, 4850.0, 4900.0, 4950.0, 5000.0, 5100.0, 5200.0, 5300.0, 5400.0, 5500.0, 5600.0, 5700.0, 5800.0, 5900.0, 6000.0, 6100.0, 6200.0, 6300.0, 6400.0, 6500.0, 6600.0, 6700.0, 6800.0, 6900.0, 7000.0, 7100.0, 7200.0, 7300.0, 7400.0, 7500.0, 7600.0, 7700.0, 7800.0, 7900.0, 8000.0, 8100.0, 8200.0, 8300.0, 8400.0, 8500.0, 8600.0, 8700.0, 8800.0, 8900.0, 9000.0, 9100.0, 9200.0, 9300.0, 9400.0, 9500.0, 9600.0, 9700.0, 9800.0, 9900.0, 10000.0, 12500.0, 15000.0, 17500.0, 20000.0, 25000.0, 30000.0, 35000.0, 40000.0, 50000.0, 60000.0, 70000.0, 75000.0, 80000.0, 90000.0, 100000.0, 125000.0, 150000.0, 200000.0, 250000.0, 300000.0, 400000.0, 500000.0, 600000.0, 700000.0, 800000.0, 900000.0, 1000000.0, 1500000.0, 2000000.0, 2500000.0, 3000000.0, 4000000.0, 5000000.0, 6000000.0, 7000000.0, 8000000.0, 9000000.0, 10000000.0, 15000000.0, 20000000.0, 25000000.0, 30000000.0, 40000000.0, 50000000.0, 60000000.0, 70000000.0, 80000000.0, 90000000.0, 100000000.0, 150000000.0, 200000000.0, 250000000.0, 300000000.0, 400000000.0, 500000000.0, 600000000.0, 700000000.0, 800000000.0, 900000000.0, 1000000000.0, 1500000000.0, 2000000000.0, 2500000000.0, 3000000000.0, 4000000000.0, 5000000000.0, 6000000000.0, 7000000000.0, 8000000000.0, 9000000000.0, 10000000000.0, 15000000000.0, 20000000000.0, 25000000000.0, 30000000000.0, 40000000000.0, 50000000000.0, 60000000000.0, 70000000000.0, 80000000000.0, 90000000000.0, 100000000000.0, 150000000000.0, 200000000000.0, 250000000000.0, 300000000000.0, 400000000000.0, 500000000000.0, 600000000000.0, 700000000000.0, 800000000000.0, 900000000000.0, 1000000000000.0, 1500000000000.0, 2000000000000.0], \"xaxis\": \"x\", \"y\": [0.0, 0.11199999999999999, 0.278, 0.40399999999999997, 0.52, 0.606, 0.6890000000000001, 0.758, 0.898, 1.02, 1.14, 1.251, 1.359, 1.469, 1.569, 2.447, 3.202, 3.8930000000000002, 4.539, 5.153, 5.742999999999999, 6.314, 6.869, 7.4110000000000005, 7.94, 8.457, 8.964, 9.461, 9.949, 10.434000000000001, 10.913, 11.386, 11.855, 12.319, 12.777999999999999, 13.232999999999999, 13.684000000000001, 14.130999999999998, 14.573, 15.013, 15.45, 15.883, 16.313, 16.742, 17.167, 17.59, 18.011, 18.429000000000002, 18.845, 19.259, 19.671, 20.08, 20.488000000000003, 20.894000000000002, 21.298000000000002, 21.701, 22.101, 22.5, 22.897, 23.291, 23.684, 24.076, 24.465999999999998, 24.855, 25.244, 25.633000000000003, 26.02, 26.406, 26.791, 27.174, 27.555, 27.935, 28.314, 28.691, 29.068, 29.443, 29.818, 30.191999999999997, 30.565, 30.936999999999998, 31.308000000000003, 31.679000000000002, 32.048, 32.417, 32.785, 33.150999999999996, 33.516999999999996, 33.883, 34.247, 34.611, 34.974000000000004, 35.336, 35.696999999999996, 36.058, 36.418, 36.777, 37.135999999999996, 37.494, 37.851, 38.2, 38.6, 38.9, 39.3, 39.6, 40.0, 40.3, 40.7, 41.0, 41.4, 41.7, 42.1, 42.4, 42.8, 43.1, 44.9, 46.6, 48.3, 50.0, 51.6, 53.3, 55.0, 56.6, 58.3, 59.9, 61.5, 63.1, 64.7, 66.3, 67.9, 69.5, 71.1, 72.7, 74.2, 75.8, 77.3, 78.9, 80.4, 82.0, 83.5, 85.0, 86.5, 88.1, 89.6, 91.1, 92.6, 94.1, 95.6, 97.1, 98.6, 100.0, 102.0, 103.0, 104.0, 106.0, 107.0, 109.0, 110.0, 112.0, 113.0, 115.0, 116.0, 118.0, 119.0, 121.0, 122.0, 123.0, 125.0, 127.0, 128.0, 129.0, 131.0, 132.0, 133.0, 135.0, 136.0, 138.0, 139.0, 140.0, 142.0, 143.0, 145.0, 146.0, 147.0, 149.0, 150.0, 152.0, 153.0, 154.0, 156.0, 157.0, 159.0, 160.0, 161.0, 163.0, 165.0, 168.0, 170.0, 171.0, 174.0, 176.0, 179.0, 182.0, 183.0, 184.0, 187.0, 190.0, 193.0, 195.0, 197.0, 198.0, 201.0, 203.0, 206.0, 209.0, 210.0, 211.0, 214.0, 216.0, 219.0, 222.0, 223.0, 224.0, 227.0, 230.0, 232.0, 235.0, 236.0, 237.0, 240.0, 243.0, 245.0, 248.0, 249.0, 250.0, 253.0, 255.0, 258.0, 261.0, 262.0, 263.0, 266.0, 268.0, 271.0, 273.0, 275.0, 276.0, 278.0, 281.0, 283.0, 286.0, 287.0, 288.0, 291.0, 294.0, 296.0, 299.0, 300.0, 301.0, 304.0, 306.0, 309.0, 311.0, 312.0, 314.0, 316.0, 319.0, 321.0, 324.0, 325.0, 326.0, 328.0, 331.0, 333.0, 336.0, 337.0, 338.0, 341.0, 343.0, 346.0, 348.0, 349.0, 351.0, 353.0, 356.0, 358.0, 360.0, 362.0, 363.0, 365.0, 368.0, 370.0, 373.0, 374.0, 375.0, 378.0, 380.0, 382.0, 385.0, 386.0, 387.0, 390.0, 392.0, 395.0, 397.0, 398.0, 399.0, 402.0, 404.0, 407.0, 409.0, 410.0, 411.0, 414.0, 416.0, 422.0, 428.0, 434.0, 440.0, 446.0, 452.0, 458.0, 464.0, 470.0, 476.0, 482.0, 487.0, 493.0, 499.0, 505.0, 511.0, 517.0, 523.0, 528.0, 534.0, 540.0, 546.0, 552.0, 557.0, 563.0, 569.0, 575.0, 580.0, 586.0, 592.0, 598.0, 603.0, 609.0, 615.0, 620.0, 626.0, 632.0, 637.0, 643.0, 649.0, 660.0, 671.0, 683.0, 694.0, 705.0, 716.0, 727.0, 739.0, 750.0, 761.0, 772.0, 783.0, 794.0, 805.0, 816.0, 827.0, 838.0, 849.0, 860.0, 871.0, 882.0, 893.0, 904.0, 914.0, 925.0, 936.0, 947.0, 958.0, 969.0, 979.0, 990.0, 1000.0, 1010.0, 1020.0, 1030.0, 1040.0, 1050.0, 1070.0, 1080.0, 1090.0, 1100.0, 1110.0, 1120.0, 1130.0, 1140.0, 1150.0, 1160.0, 1170.0, 1180.0, 1190.0, 1210.0, 1230.0, 1260.0, 1280.0, 1300.0, 1320.0, 1340.0, 1360.0, 1380.0, 1400.0, 1420.0, 1440.0, 1460.0, 1480.0, 1500.0, 1520.0, 1540.0, 1560.0, 1590.0, 1610.0, 1630.0, 1650.0, 1670.0, 1690.0, 1710.0, 1730.0, 1750.0, 1770.0, 1790.0, 1810.0, 1830.0, 1850.0, 1870.0, 1890.0, 1910.0, 1930.0, 1950.0, 1970.0, 1990.0, 2010.0, 2030.0, 2050.0, 2070.0, 2090.0, 2110.0, 2130.0, 2140.0, 2160.0, 2180.0, 2200.0, 2690.0, 3160.0, 3630.0, 4100.0, 5010.0, 5900.0, 6780.0, 7650.0, 9360.0, 11000.0, 12700.0, 13500.0, 14400.0, 16000.0, 17600.0, 21600.0, 25400.0, 33100.0, 40700.0, 48200.0, 62700.0, 77000.0, 91100.0, 105000.0, 119000.0, 133000.0, 146000.0, 213000.0, 278000.0, 343000.0, 406000.0, 531000.0, 654000.0, 776000.0, 897000.0, 1020000.0, 1130000.0, 1250000.0, 1830000.0, 2400000.0, 2960000.0, 3520000.0, 4610000.0, 5690000.0, 6760000.0, 7820000.0, 8870000.0, 9910000.0, 11000000.0, 16000000.0, 21100000.0, 26100000.0, 31000000.0, 40700000.0, 50300000.0, 59800000.0, 69300000.0, 78700000.0, 88000000.0, 97300000.0, 143000000.0, 188000000.0, 233000000.0, 277000000.0, 365000000.0, 451000000.0, 537000000.0, 622000000.0, 707000000.0, 791000000.0, 875000000.0, 1290000000.0, 1700000000.0, 2100000000.0, 2510000000.0, 3300000000.0, 4090000000.0, 4870000000.0, 5640000000.0, 6410000000.0, 7180000000.0, 7950000000.0, 11700000000.0, 15500000000.0, 19200000000.0, 22900000000.0, 30200000000.0, 37500000000.0, 44700000000.0, 51900000000.0, 58900000000.0, 65800000000.0, 72800000000.0, 108000000000.0, 142000000000.0], \"yaxis\": \"y\"}],\n",
       "                        {\"legend\": {\"tracegroupgap\": 0}, \"margin\": {\"t\": 60}, \"template\": {\"data\": {\"bar\": [{\"error_x\": {\"color\": \"#2a3f5f\"}, \"error_y\": {\"color\": \"#2a3f5f\"}, \"marker\": {\"line\": {\"color\": \"#E5ECF6\", \"width\": 0.5}}, \"type\": \"bar\"}], \"barpolar\": [{\"marker\": {\"line\": {\"color\": \"#E5ECF6\", \"width\": 0.5}}, \"type\": \"barpolar\"}], \"carpet\": [{\"aaxis\": {\"endlinecolor\": \"#2a3f5f\", \"gridcolor\": \"white\", \"linecolor\": \"white\", \"minorgridcolor\": \"white\", \"startlinecolor\": \"#2a3f5f\"}, \"baxis\": {\"endlinecolor\": \"#2a3f5f\", \"gridcolor\": \"white\", \"linecolor\": \"white\", \"minorgridcolor\": \"white\", \"startlinecolor\": \"#2a3f5f\"}, \"type\": \"carpet\"}], \"choropleth\": [{\"colorbar\": {\"outlinewidth\": 0, \"ticks\": \"\"}, \"type\": \"choropleth\"}], \"contour\": [{\"colorbar\": {\"outlinewidth\": 0, \"ticks\": \"\"}, \"colorscale\": [[0.0, \"#0d0887\"], [0.1111111111111111, \"#46039f\"], [0.2222222222222222, \"#7201a8\"], [0.3333333333333333, \"#9c179e\"], [0.4444444444444444, \"#bd3786\"], [0.5555555555555556, \"#d8576b\"], [0.6666666666666666, \"#ed7953\"], [0.7777777777777778, \"#fb9f3a\"], [0.8888888888888888, \"#fdca26\"], [1.0, \"#f0f921\"]], \"type\": \"contour\"}], \"contourcarpet\": [{\"colorbar\": {\"outlinewidth\": 0, \"ticks\": \"\"}, \"type\": \"contourcarpet\"}], \"heatmap\": [{\"colorbar\": {\"outlinewidth\": 0, \"ticks\": \"\"}, \"colorscale\": [[0.0, \"#0d0887\"], [0.1111111111111111, \"#46039f\"], [0.2222222222222222, \"#7201a8\"], [0.3333333333333333, \"#9c179e\"], [0.4444444444444444, \"#bd3786\"], [0.5555555555555556, \"#d8576b\"], [0.6666666666666666, \"#ed7953\"], [0.7777777777777778, \"#fb9f3a\"], [0.8888888888888888, \"#fdca26\"], [1.0, \"#f0f921\"]], \"type\": \"heatmap\"}], \"heatmapgl\": [{\"colorbar\": {\"outlinewidth\": 0, \"ticks\": \"\"}, \"colorscale\": [[0.0, \"#0d0887\"], [0.1111111111111111, \"#46039f\"], [0.2222222222222222, \"#7201a8\"], [0.3333333333333333, \"#9c179e\"], [0.4444444444444444, \"#bd3786\"], [0.5555555555555556, \"#d8576b\"], [0.6666666666666666, \"#ed7953\"], [0.7777777777777778, \"#fb9f3a\"], [0.8888888888888888, \"#fdca26\"], [1.0, \"#f0f921\"]], \"type\": \"heatmapgl\"}], \"histogram\": [{\"marker\": {\"colorbar\": {\"outlinewidth\": 0, \"ticks\": \"\"}}, \"type\": \"histogram\"}], \"histogram2d\": [{\"colorbar\": {\"outlinewidth\": 0, \"ticks\": \"\"}, \"colorscale\": [[0.0, \"#0d0887\"], [0.1111111111111111, \"#46039f\"], [0.2222222222222222, \"#7201a8\"], [0.3333333333333333, \"#9c179e\"], [0.4444444444444444, \"#bd3786\"], [0.5555555555555556, \"#d8576b\"], [0.6666666666666666, \"#ed7953\"], [0.7777777777777778, \"#fb9f3a\"], [0.8888888888888888, \"#fdca26\"], [1.0, \"#f0f921\"]], \"type\": \"histogram2d\"}], \"histogram2dcontour\": [{\"colorbar\": {\"outlinewidth\": 0, \"ticks\": \"\"}, \"colorscale\": [[0.0, \"#0d0887\"], [0.1111111111111111, \"#46039f\"], [0.2222222222222222, \"#7201a8\"], [0.3333333333333333, \"#9c179e\"], [0.4444444444444444, \"#bd3786\"], [0.5555555555555556, \"#d8576b\"], [0.6666666666666666, \"#ed7953\"], [0.7777777777777778, \"#fb9f3a\"], [0.8888888888888888, \"#fdca26\"], [1.0, \"#f0f921\"]], \"type\": \"histogram2dcontour\"}], \"mesh3d\": [{\"colorbar\": {\"outlinewidth\": 0, \"ticks\": \"\"}, \"type\": \"mesh3d\"}], \"parcoords\": [{\"line\": {\"colorbar\": {\"outlinewidth\": 0, \"ticks\": \"\"}}, \"type\": \"parcoords\"}], \"pie\": [{\"automargin\": true, \"type\": \"pie\"}], \"scatter\": [{\"marker\": {\"colorbar\": {\"outlinewidth\": 0, \"ticks\": \"\"}}, \"type\": \"scatter\"}], \"scatter3d\": [{\"line\": {\"colorbar\": {\"outlinewidth\": 0, \"ticks\": \"\"}}, \"marker\": {\"colorbar\": {\"outlinewidth\": 0, \"ticks\": \"\"}}, \"type\": \"scatter3d\"}], \"scattercarpet\": [{\"marker\": {\"colorbar\": {\"outlinewidth\": 0, \"ticks\": \"\"}}, \"type\": \"scattercarpet\"}], \"scattergeo\": [{\"marker\": {\"colorbar\": {\"outlinewidth\": 0, \"ticks\": \"\"}}, \"type\": \"scattergeo\"}], \"scattergl\": [{\"marker\": {\"colorbar\": {\"outlinewidth\": 0, \"ticks\": \"\"}}, \"type\": \"scattergl\"}], \"scattermapbox\": [{\"marker\": {\"colorbar\": {\"outlinewidth\": 0, \"ticks\": \"\"}}, \"type\": \"scattermapbox\"}], \"scatterpolar\": [{\"marker\": {\"colorbar\": {\"outlinewidth\": 0, \"ticks\": \"\"}}, \"type\": \"scatterpolar\"}], \"scatterpolargl\": [{\"marker\": {\"colorbar\": {\"outlinewidth\": 0, \"ticks\": \"\"}}, \"type\": \"scatterpolargl\"}], \"scatterternary\": [{\"marker\": {\"colorbar\": {\"outlinewidth\": 0, \"ticks\": \"\"}}, \"type\": \"scatterternary\"}], \"surface\": [{\"colorbar\": {\"outlinewidth\": 0, \"ticks\": \"\"}, \"colorscale\": [[0.0, \"#0d0887\"], [0.1111111111111111, \"#46039f\"], [0.2222222222222222, \"#7201a8\"], [0.3333333333333333, \"#9c179e\"], [0.4444444444444444, \"#bd3786\"], [0.5555555555555556, \"#d8576b\"], [0.6666666666666666, \"#ed7953\"], [0.7777777777777778, \"#fb9f3a\"], [0.8888888888888888, \"#fdca26\"], [1.0, \"#f0f921\"]], \"type\": \"surface\"}], \"table\": [{\"cells\": {\"fill\": {\"color\": \"#EBF0F8\"}, \"line\": {\"color\": \"white\"}}, \"header\": {\"fill\": {\"color\": \"#C8D4E3\"}, \"line\": {\"color\": \"white\"}}, \"type\": \"table\"}]}, \"layout\": {\"annotationdefaults\": {\"arrowcolor\": \"#2a3f5f\", \"arrowhead\": 0, \"arrowwidth\": 1}, \"coloraxis\": {\"colorbar\": {\"outlinewidth\": 0, \"ticks\": \"\"}}, \"colorscale\": {\"diverging\": [[0, \"#8e0152\"], [0.1, \"#c51b7d\"], [0.2, \"#de77ae\"], [0.3, \"#f1b6da\"], [0.4, \"#fde0ef\"], [0.5, \"#f7f7f7\"], [0.6, \"#e6f5d0\"], [0.7, \"#b8e186\"], [0.8, \"#7fbc41\"], [0.9, \"#4d9221\"], [1, \"#276419\"]], \"sequential\": [[0.0, \"#0d0887\"], [0.1111111111111111, \"#46039f\"], [0.2222222222222222, \"#7201a8\"], [0.3333333333333333, \"#9c179e\"], [0.4444444444444444, \"#bd3786\"], [0.5555555555555556, \"#d8576b\"], [0.6666666666666666, \"#ed7953\"], [0.7777777777777778, \"#fb9f3a\"], [0.8888888888888888, \"#fdca26\"], [1.0, \"#f0f921\"]], \"sequentialminus\": [[0.0, \"#0d0887\"], [0.1111111111111111, \"#46039f\"], [0.2222222222222222, \"#7201a8\"], [0.3333333333333333, \"#9c179e\"], [0.4444444444444444, \"#bd3786\"], [0.5555555555555556, \"#d8576b\"], [0.6666666666666666, \"#ed7953\"], [0.7777777777777778, \"#fb9f3a\"], [0.8888888888888888, \"#fdca26\"], [1.0, \"#f0f921\"]]}, \"colorway\": [\"#636efa\", \"#EF553B\", \"#00cc96\", \"#ab63fa\", \"#FFA15A\", \"#19d3f3\", \"#FF6692\", \"#B6E880\", \"#FF97FF\", \"#FECB52\"], \"font\": {\"color\": \"#2a3f5f\"}, \"geo\": {\"bgcolor\": \"white\", \"lakecolor\": \"white\", \"landcolor\": \"#E5ECF6\", \"showlakes\": true, \"showland\": true, \"subunitcolor\": \"white\"}, \"hoverlabel\": {\"align\": \"left\"}, \"hovermode\": \"closest\", \"mapbox\": {\"style\": \"light\"}, \"paper_bgcolor\": \"white\", \"plot_bgcolor\": \"#E5ECF6\", \"polar\": {\"angularaxis\": {\"gridcolor\": \"white\", \"linecolor\": \"white\", \"ticks\": \"\"}, \"bgcolor\": \"#E5ECF6\", \"radialaxis\": {\"gridcolor\": \"white\", \"linecolor\": \"white\", \"ticks\": \"\"}}, \"scene\": {\"xaxis\": {\"backgroundcolor\": \"#E5ECF6\", \"gridcolor\": \"white\", \"gridwidth\": 2, \"linecolor\": \"white\", \"showbackground\": true, \"ticks\": \"\", \"zerolinecolor\": \"white\"}, \"yaxis\": {\"backgroundcolor\": \"#E5ECF6\", \"gridcolor\": \"white\", \"gridwidth\": 2, \"linecolor\": \"white\", \"showbackground\": true, \"ticks\": \"\", \"zerolinecolor\": \"white\"}, \"zaxis\": {\"backgroundcolor\": \"#E5ECF6\", \"gridcolor\": \"white\", \"gridwidth\": 2, \"linecolor\": \"white\", \"showbackground\": true, \"ticks\": \"\", \"zerolinecolor\": \"white\"}}, \"shapedefaults\": {\"line\": {\"color\": \"#2a3f5f\"}}, \"ternary\": {\"aaxis\": {\"gridcolor\": \"white\", \"linecolor\": \"white\", \"ticks\": \"\"}, \"baxis\": {\"gridcolor\": \"white\", \"linecolor\": \"white\", \"ticks\": \"\"}, \"bgcolor\": \"#E5ECF6\", \"caxis\": {\"gridcolor\": \"white\", \"linecolor\": \"white\", \"ticks\": \"\"}}, \"title\": {\"x\": 0.05}, \"xaxis\": {\"automargin\": true, \"gridcolor\": \"white\", \"linecolor\": \"white\", \"ticks\": \"\", \"title\": {\"standoff\": 15}, \"zerolinecolor\": \"white\", \"zerolinewidth\": 2}, \"yaxis\": {\"automargin\": true, \"gridcolor\": \"white\", \"linecolor\": \"white\", \"ticks\": \"\", \"title\": {\"standoff\": 15}, \"zerolinecolor\": \"white\", \"zerolinewidth\": 2}}}, \"xaxis\": {\"anchor\": \"y\", \"domain\": [0.0, 1.0], \"title\": {\"text\": \"td\"}}, \"yaxis\": {\"anchor\": \"x\", \"domain\": [0.0, 1.0], \"title\": {\"text\": \"wd\"}}},\n",
       "                        {\"responsive\": true}\n",
       "                    ).then(function(){\n",
       "                            \n",
       "var gd = document.getElementById('7406fbf2-d653-4588-8964-14fec00fdd3d');\n",
       "var x = new MutationObserver(function (mutations, observer) {{\n",
       "        var display = window.getComputedStyle(gd).display;\n",
       "        if (!display || display === 'none') {{\n",
       "            console.log([gd, 'removed!']);\n",
       "            Plotly.purge(gd);\n",
       "            observer.disconnect();\n",
       "        }}\n",
       "}});\n",
       "\n",
       "// Listen for the removal of the full notebook cells\n",
       "var notebookContainer = gd.closest('#notebook-container');\n",
       "if (notebookContainer) {{\n",
       "    x.observe(notebookContainer, {childList: true});\n",
       "}}\n",
       "\n",
       "// Listen for the clearing of the current output cell\n",
       "var outputEl = gd.closest('.output');\n",
       "if (outputEl) {{\n",
       "    x.observe(outputEl, {childList: true});\n",
       "}}\n",
       "\n",
       "                        })\n",
       "                };\n",
       "                });\n",
       "            </script>\n",
       "        </div>"
      ]
     },
     "metadata": {},
     "output_type": "display_data"
    }
   ],
   "source": [
    "fig = px.scatter(tabela_aquifero_infinito, x = \"td\", y = \"wd\") #cria grafico td vs wd\n",
    "fig.show() #apresenta gráfico de td vs wd"
   ]
  },
  {
   "cell_type": "markdown",
   "metadata": {},
   "source": [
    "### 7° Passo: Analise a curva e identifique qual o melhor modelo de regressão pode ser usado e aplique-o.\n",
    "<br><br>Pela distribuição dos pontos no gráfico, afirma-se que um modelo de regressão linear simples se adequa ao cenário."
   ]
  },
  {
   "cell_type": "code",
   "execution_count": 255,
   "metadata": {},
   "outputs": [
    {
     "name": "stdout",
     "output_type": "stream",
     "text": [
      "O R² da regressão linear utilizada 0.9911517563632642\n"
     ]
    }
   ],
   "source": [
    "x = tabela_aquifero_infinito.iloc[0:100, :-1].values #vincula a variavel x aos dados de td\n",
    "y = tabela_aquifero_infinito.iloc[0:100, 1].values #vincula a variavel y aos dados de wd\n",
    "xTrain, xTest, yTrain, yTest = train_test_split(x, y, test_size = 1/3, random_state = 0) #Separa a amostra em dados de treino e dados de teste.\n",
    "linearRegressor = LinearRegression() #Cria uma variável para armazenar a regressão\n",
    "linearRegressor.fit(xTrain, yTrain) #Ajusta a regressão com as variáveis de treinamento\n",
    "print (\"O R² da regressão linear utilizada\", linearRegressor.score(xTrain,yTrain)) #Apresenta o R², que indica a representatividade da curva em relação aos dados"
   ]
  },
  {
   "cell_type": "markdown",
   "metadata": {},
   "source": [
    "Como o valor do R² é de 99%, utilizaremos os coeficientes do modelo para prever os valores de wd, dispensando a consulta de tabela e reduzindo o tempo de calculo."
   ]
  },
  {
   "cell_type": "code",
   "execution_count": 256,
   "metadata": {},
   "outputs": [],
   "source": [
    "def wd(td): #cria a função de previsão de wd\n",
    "    if td <= 0: #Para valores de td <= 0 o wd será 0\n",
    "        wd = 0\n",
    "    else: # Para valores de td > 0 o wd pode ser previsto por uma equação do primeiro grau y = ax + b\n",
    "        wd = float(linearRegressor.coef_)*td + float(linearRegressor.intercept_) # Analogamente a função do primeiro grau Y = ax + b, a = linearRegressor.coef_ e b = linearRegressor.intercept_\n",
    "    return wd"
   ]
  },
  {
   "cell_type": "markdown",
   "metadata": {},
   "source": [
    "### 8° Passo: Calcule a queda de pressão ao final de 1 ano de produção"
   ]
  },
  {
   "cell_type": "code",
   "execution_count": 257,
   "metadata": {},
   "outputs": [],
   "source": [
    "ΔPi = (hist_pressao_df.iloc[0,1] - hist_pressao_df.iloc[1,1])/2 #Calcula o ΔP para 1 ano de produção"
   ]
  },
  {
   "cell_type": "code",
   "execution_count": 258,
   "metadata": {},
   "outputs": [
    {
     "name": "stdout",
     "output_type": "stream",
     "text": [
      "O influxo acumulado de água ao final do 1° ano de produção é 153076.4678503576 m³.\n"
     ]
    }
   ],
   "source": [
    "wedi = U * ΔPi * wd(7.0648) #Calcula o influxo acumulado ao final do 1° ano de produção\n",
    "print (\"O influxo acumulado de água ao final do 1° ano de produção é\", wedi, \"m³.\")"
   ]
  },
  {
   "cell_type": "markdown",
   "metadata": {},
   "source": [
    "## (b) Ao final do 4° ano de produção."
   ]
  },
  {
   "cell_type": "markdown",
   "metadata": {},
   "source": [
    "### 1° Passo: Cácule os influxos admensionais e as variações de pressão para cada intervalo e adicioneos ao DataFrame hist_pressao_df."
   ]
  },
  {
   "cell_type": "code",
   "execution_count": 259,
   "metadata": {},
   "outputs": [],
   "source": [
    "\n",
    "hist_pressao_df['Influxo admensional'] = [wd(tempo_adimensional(hist_pressao_df.iloc[4,0]-hist_pressao_df.iloc[0,0])),# wd(td=(4 anos - 0 ano))\n",
    "                                          wd(tempo_adimensional(hist_pressao_df.iloc[4,0]-hist_pressao_df.iloc[1,0])),# wd(td=(4 anos - 1 ano))\n",
    "                                          wd(tempo_adimensional(hist_pressao_df.iloc[4,0]-hist_pressao_df.iloc[2,0])),# wd(td=(4 anos - 2 anos))\n",
    "                                          wd(tempo_adimensional(hist_pressao_df.iloc[4,0]-hist_pressao_df.iloc[3,0])),# wd(td=(4 anos - 3 anos))\n",
    "                                          wd(tempo_adimensional(hist_pressao_df.iloc[4,0]-hist_pressao_df.iloc[4,0]))]# wd(td=(4 anos - 4 anos))\n",
    "\n",
    "hist_pressao_df['ΔPj'] = [(hist_pressao_df.iloc[0,1]-hist_pressao_df.iloc[1,1])/2, #(ΔP0-ΔP1)/2\n",
    "                          (hist_pressao_df.iloc[0,1]-hist_pressao_df.iloc[2,1])/2, #(ΔP0-ΔP2)/2\n",
    "                          (hist_pressao_df.iloc[1,1]-hist_pressao_df.iloc[3,1])/2, #(ΔP1-ΔP2)/2\n",
    "                          (hist_pressao_df.iloc[2,1]-hist_pressao_df.iloc[4,1])/2, #(ΔP2-ΔP3)/2\n",
    "                          (hist_pressao_df.iloc[4,1]-hist_pressao_df.iloc[4,1])/2] #(ΔP3-ΔP3)/2"
   ]
  },
  {
   "cell_type": "markdown",
   "metadata": {},
   "source": [
    "O Data Frame hist_pressao_df estará neste formato"
   ]
  },
  {
   "cell_type": "code",
   "execution_count": 260,
   "metadata": {},
   "outputs": [
    {
     "data": {
      "text/html": [
       "<div>\n",
       "<style scoped>\n",
       "    .dataframe tbody tr th:only-of-type {\n",
       "        vertical-align: middle;\n",
       "    }\n",
       "\n",
       "    .dataframe tbody tr th {\n",
       "        vertical-align: top;\n",
       "    }\n",
       "\n",
       "    .dataframe thead th {\n",
       "        text-align: right;\n",
       "    }\n",
       "</style>\n",
       "<table border=\"1\" class=\"dataframe\">\n",
       "  <thead>\n",
       "    <tr style=\"text-align: right;\">\n",
       "      <th></th>\n",
       "      <th>Tempo [ano]</th>\n",
       "      <th>Pressão [kgf/cm²]</th>\n",
       "      <th>Influxo admensional</th>\n",
       "      <th>ΔPj</th>\n",
       "    </tr>\n",
       "  </thead>\n",
       "  <tbody>\n",
       "    <tr>\n",
       "      <th>0</th>\n",
       "      <td>0</td>\n",
       "      <td>220</td>\n",
       "      <td>14.834981</td>\n",
       "      <td>20.0</td>\n",
       "    </tr>\n",
       "    <tr>\n",
       "      <th>1</th>\n",
       "      <td>1</td>\n",
       "      <td>180</td>\n",
       "      <td>11.769836</td>\n",
       "      <td>30.0</td>\n",
       "    </tr>\n",
       "    <tr>\n",
       "      <th>2</th>\n",
       "      <td>2</td>\n",
       "      <td>160</td>\n",
       "      <td>8.704690</td>\n",
       "      <td>10.0</td>\n",
       "    </tr>\n",
       "    <tr>\n",
       "      <th>3</th>\n",
       "      <td>3</td>\n",
       "      <td>160</td>\n",
       "      <td>5.639545</td>\n",
       "      <td>0.0</td>\n",
       "    </tr>\n",
       "    <tr>\n",
       "      <th>4</th>\n",
       "      <td>4</td>\n",
       "      <td>160</td>\n",
       "      <td>0.000000</td>\n",
       "      <td>0.0</td>\n",
       "    </tr>\n",
       "  </tbody>\n",
       "</table>\n",
       "</div>"
      ],
      "text/plain": [
       "   Tempo [ano]  Pressão [kgf/cm²]  Influxo admensional   ΔPj\n",
       "0            0                220            14.834981  20.0\n",
       "1            1                180            11.769836  30.0\n",
       "2            2                160             8.704690  10.0\n",
       "3            3                160             5.639545   0.0\n",
       "4            4                160             0.000000   0.0"
      ]
     },
     "execution_count": 260,
     "metadata": {},
     "output_type": "execute_result"
    }
   ],
   "source": [
    "hist_pressao_df# Apresenta o DataFrame"
   ]
  },
  {
   "cell_type": "markdown",
   "metadata": {},
   "source": [
    "### 2° Passo: Multiplique a coluna \"Influxo admensional\" pela coluna \"ΔPj\" e adcione a coluna resultado ao seu DataFrame."
   ]
  },
  {
   "cell_type": "code",
   "execution_count": 261,
   "metadata": {},
   "outputs": [],
   "source": [
    "hist_pressao_df['ΔPj*Wd'] = hist_pressao_df['Influxo admensional']*hist_pressao_df['ΔPj'] #Cria a coluna \"ΔPj*Wd\""
   ]
  },
  {
   "cell_type": "code",
   "execution_count": 262,
   "metadata": {},
   "outputs": [
    {
     "data": {
      "text/html": [
       "<div>\n",
       "<style scoped>\n",
       "    .dataframe tbody tr th:only-of-type {\n",
       "        vertical-align: middle;\n",
       "    }\n",
       "\n",
       "    .dataframe tbody tr th {\n",
       "        vertical-align: top;\n",
       "    }\n",
       "\n",
       "    .dataframe thead th {\n",
       "        text-align: right;\n",
       "    }\n",
       "</style>\n",
       "<table border=\"1\" class=\"dataframe\">\n",
       "  <thead>\n",
       "    <tr style=\"text-align: right;\">\n",
       "      <th></th>\n",
       "      <th>Tempo [ano]</th>\n",
       "      <th>Pressão [kgf/cm²]</th>\n",
       "      <th>Influxo admensional</th>\n",
       "      <th>ΔPj</th>\n",
       "      <th>ΔPj*Wd</th>\n",
       "    </tr>\n",
       "  </thead>\n",
       "  <tbody>\n",
       "    <tr>\n",
       "      <th>0</th>\n",
       "      <td>0</td>\n",
       "      <td>220</td>\n",
       "      <td>14.834981</td>\n",
       "      <td>20.0</td>\n",
       "      <td>296.699624</td>\n",
       "    </tr>\n",
       "    <tr>\n",
       "      <th>1</th>\n",
       "      <td>1</td>\n",
       "      <td>180</td>\n",
       "      <td>11.769836</td>\n",
       "      <td>30.0</td>\n",
       "      <td>353.095075</td>\n",
       "    </tr>\n",
       "    <tr>\n",
       "      <th>2</th>\n",
       "      <td>2</td>\n",
       "      <td>160</td>\n",
       "      <td>8.704690</td>\n",
       "      <td>10.0</td>\n",
       "      <td>87.046905</td>\n",
       "    </tr>\n",
       "    <tr>\n",
       "      <th>3</th>\n",
       "      <td>3</td>\n",
       "      <td>160</td>\n",
       "      <td>5.639545</td>\n",
       "      <td>0.0</td>\n",
       "      <td>0.000000</td>\n",
       "    </tr>\n",
       "    <tr>\n",
       "      <th>4</th>\n",
       "      <td>4</td>\n",
       "      <td>160</td>\n",
       "      <td>0.000000</td>\n",
       "      <td>0.0</td>\n",
       "      <td>0.000000</td>\n",
       "    </tr>\n",
       "  </tbody>\n",
       "</table>\n",
       "</div>"
      ],
      "text/plain": [
       "   Tempo [ano]  Pressão [kgf/cm²]  Influxo admensional   ΔPj      ΔPj*Wd\n",
       "0            0                220            14.834981  20.0  296.699624\n",
       "1            1                180            11.769836  30.0  353.095075\n",
       "2            2                160             8.704690  10.0   87.046905\n",
       "3            3                160             5.639545   0.0    0.000000\n",
       "4            4                160             0.000000   0.0    0.000000"
      ]
     },
     "execution_count": 262,
     "metadata": {},
     "output_type": "execute_result"
    }
   ],
   "source": [
    "hist_pressao_df #Apresenta o Data Frame"
   ]
  },
  {
   "cell_type": "markdown",
   "metadata": {},
   "source": [
    "### 3° Passo: Some os valores da coluna \"ΔPj*Wd\" e multiple pela constante de influxo do aquífero para obter o Influxo acumulado ao final do 4° ano de produção."
   ]
  },
  {
   "cell_type": "code",
   "execution_count": 264,
   "metadata": {},
   "outputs": [
    {
     "name": "stdout",
     "output_type": "stream",
     "text": [
      "O influxo acumulado de água ao final do 4° ano de produção é 1000017.8660260225 m³.\n"
     ]
    }
   ],
   "source": [
    "We = U*hist_pressao_df['ΔPj*Wd'].sum()#Calcula o influxo acumulado\n",
    "print (\"O influxo acumulado de água ao final do 4° ano de produção é\", We, \"m³.\")"
   ]
  },
  {
   "cell_type": "markdown",
   "metadata": {},
   "source": [
    "## Análise dos resultados"
   ]
  },
  {
   "cell_type": "code",
   "execution_count": 273,
   "metadata": {},
   "outputs": [],
   "source": [
    "resultados_df = pd.DataFrame(data = [[156892,wedi],[1087117,We]], columns = ['Resultado Esperado', 'Resultado Calculado'], index =['Wed 1° ano','Wed 4° ano']) #Cria DataFrame com os resultados esperado e calculados"
   ]
  },
  {
   "cell_type": "code",
   "execution_count": 274,
   "metadata": {},
   "outputs": [
    {
     "data": {
      "text/html": [
       "<div>\n",
       "<style scoped>\n",
       "    .dataframe tbody tr th:only-of-type {\n",
       "        vertical-align: middle;\n",
       "    }\n",
       "\n",
       "    .dataframe tbody tr th {\n",
       "        vertical-align: top;\n",
       "    }\n",
       "\n",
       "    .dataframe thead th {\n",
       "        text-align: right;\n",
       "    }\n",
       "</style>\n",
       "<table border=\"1\" class=\"dataframe\">\n",
       "  <thead>\n",
       "    <tr style=\"text-align: right;\">\n",
       "      <th></th>\n",
       "      <th>Resultado Esperado</th>\n",
       "      <th>Resultado Calculado</th>\n",
       "      <th>Erro Absoluto</th>\n",
       "    </tr>\n",
       "  </thead>\n",
       "  <tbody>\n",
       "    <tr>\n",
       "      <th>Wed 1° ano</th>\n",
       "      <td>156892</td>\n",
       "      <td>1.530765e+05</td>\n",
       "      <td>0.024319</td>\n",
       "    </tr>\n",
       "    <tr>\n",
       "      <th>Wed 4° ano</th>\n",
       "      <td>1087117</td>\n",
       "      <td>1.000018e+06</td>\n",
       "      <td>0.080119</td>\n",
       "    </tr>\n",
       "  </tbody>\n",
       "</table>\n",
       "</div>"
      ],
      "text/plain": [
       "            Resultado Esperado  Resultado Calculado  Erro Absoluto\n",
       "Wed 1° ano              156892         1.530765e+05       0.024319\n",
       "Wed 4° ano             1087117         1.000018e+06       0.080119"
      ]
     },
     "execution_count": 274,
     "metadata": {},
     "output_type": "execute_result"
    }
   ],
   "source": [
    "resultados_df['Erro Absoluto'] = (resultados_df['Resultado Esperado']-resultados_df['Resultado Calculado'])/(resultados_df['Resultado Esperado']) #Cria a coluna \"Erro Absoluto\"\n",
    "resultados_df #Apresenta DataFrame Final"
   ]
  },
  {
   "cell_type": "markdown",
   "metadata": {},
   "source": [
    "Os erros absolutos mostram que o calculo do influxo acumulado  através do metodo apresenta resultados proximos aos valores esperados."
   ]
  }
 ],
 "metadata": {
  "kernelspec": {
   "display_name": "Python 3",
   "language": "python",
   "name": "python3"
  },
  "language_info": {
   "codemirror_mode": {
    "name": "ipython",
    "version": 3
   },
   "file_extension": ".py",
   "mimetype": "text/x-python",
   "name": "python",
   "nbconvert_exporter": "python",
   "pygments_lexer": "ipython3",
   "version": "3.7.6"
  },
  "widgets": {
   "application/vnd.jupyter.widget-state+json": {
    "state": {},
    "version_major": 2,
    "version_minor": 0
   }
  }
 },
 "nbformat": 4,
 "nbformat_minor": 4
}
